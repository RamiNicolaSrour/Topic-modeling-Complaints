{
  "cells": [
    {
      "cell_type": "markdown",
      "metadata": {
        "id": "dUeyWd7nNOvM"
      },
      "source": [
        "In this code, we are looking to see through complaints about financial services provide by a company, we will try to see what are the major topics we have in the complaints and how are topics distrbuied in frequecnies"
      ]
    },
    {
      "cell_type": "markdown",
      "metadata": {
        "id": "S_yG-5GVNO2N"
      },
      "source": [
        "importing libraries"
      ]
    },
    {
      "cell_type": "code",
      "execution_count": null,
      "metadata": {
        "colab": {
          "base_uri": "https://localhost:8080/"
        },
        "id": "RDxmzlCyNU0x",
        "outputId": "b4a86353-fcc8-44c2-9bec-8091432d30a0"
      },
      "outputs": [
        {
          "output_type": "stream",
          "name": "stdout",
          "text": [
            "Requirement already satisfied: gensim in /usr/local/lib/python3.10/dist-packages (4.3.2)\n",
            "Requirement already satisfied: numpy>=1.18.5 in /usr/local/lib/python3.10/dist-packages (from gensim) (1.23.5)\n",
            "Requirement already satisfied: scipy>=1.7.0 in /usr/local/lib/python3.10/dist-packages (from gensim) (1.11.2)\n",
            "Requirement already satisfied: smart-open>=1.8.1 in /usr/local/lib/python3.10/dist-packages (from gensim) (6.4.0)\n"
          ]
        }
      ],
      "source": [
        "# first i will install and import needed libraries\n",
        "!pip install gensim"
      ]
    },
    {
      "cell_type": "code",
      "execution_count": null,
      "metadata": {
        "colab": {
          "base_uri": "https://localhost:8080/"
        },
        "id": "sOqJmBiINVOT",
        "outputId": "2183391c-e69d-417a-91af-85b2144e6e04"
      },
      "outputs": [
        {
          "output_type": "stream",
          "name": "stderr",
          "text": [
            "[nltk_data] Downloading package wordnet to /root/nltk_data...\n",
            "[nltk_data]   Package wordnet is already up-to-date!\n"
          ]
        }
      ],
      "source": [
        "# importing libraries to deal with datasets\n",
        "import pandas as pd\n",
        "# importing libraries for text preprocessing\n",
        "import nltk\n",
        "from nltk.tokenize import word_tokenize\n",
        "from nltk.corpus import stopwords\n",
        "from nltk.stem import WordNetLemmatizer\n",
        "nltk.download('wordnet')\n",
        "#import sklearn.feature_extraction.text\n",
        "import gensim\n",
        "from gensim.models.doc2vec import Doc2Vec"
      ]
    },
    {
      "cell_type": "markdown",
      "metadata": {
        "id": "w55CZf8sNa4B"
      },
      "source": [
        "load dataset"
      ]
    },
    {
      "cell_type": "code",
      "execution_count": null,
      "metadata": {
        "colab": {
          "base_uri": "https://localhost:8080/",
          "height": 455
        },
        "id": "BOLs8bdANcLG",
        "outputId": "55bf4448-6968-4522-a39e-3a263839e9d9"
      },
      "outputs": [
        {
          "output_type": "execute_result",
          "data": {
            "text/plain": [
              "                     product  \\\n",
              "Unnamed: 0                     \n",
              "0                credit_card   \n",
              "1                credit_card   \n",
              "2             retail_banking   \n",
              "3           credit_reporting   \n",
              "4           credit_reporting   \n",
              "...                      ...   \n",
              "162416       debt_collection   \n",
              "162417           credit_card   \n",
              "162418       debt_collection   \n",
              "162419           credit_card   \n",
              "162420      credit_reporting   \n",
              "\n",
              "                                                    narrative  \n",
              "Unnamed: 0                                                     \n",
              "0           purchase order day shipping amount receive pro...  \n",
              "1           forwarded message date tue subject please inve...  \n",
              "2           forwarded message cc sent friday pdt subject f...  \n",
              "3           payment history missing credit report speciali...  \n",
              "4           payment history missing credit report made mis...  \n",
              "...                                                       ...  \n",
              "162416                                                   name  \n",
              "162417                                                   name  \n",
              "162418                                                   name  \n",
              "162419                                                   name  \n",
              "162420                                                   name  \n",
              "\n",
              "[162421 rows x 2 columns]"
            ],
            "text/html": [
              "\n",
              "  <div id=\"df-9f0b19fa-da98-42c3-a31f-74885696fde6\" class=\"colab-df-container\">\n",
              "    <div>\n",
              "<style scoped>\n",
              "    .dataframe tbody tr th:only-of-type {\n",
              "        vertical-align: middle;\n",
              "    }\n",
              "\n",
              "    .dataframe tbody tr th {\n",
              "        vertical-align: top;\n",
              "    }\n",
              "\n",
              "    .dataframe thead th {\n",
              "        text-align: right;\n",
              "    }\n",
              "</style>\n",
              "<table border=\"1\" class=\"dataframe\">\n",
              "  <thead>\n",
              "    <tr style=\"text-align: right;\">\n",
              "      <th></th>\n",
              "      <th>product</th>\n",
              "      <th>narrative</th>\n",
              "    </tr>\n",
              "    <tr>\n",
              "      <th>Unnamed: 0</th>\n",
              "      <th></th>\n",
              "      <th></th>\n",
              "    </tr>\n",
              "  </thead>\n",
              "  <tbody>\n",
              "    <tr>\n",
              "      <th>0</th>\n",
              "      <td>credit_card</td>\n",
              "      <td>purchase order day shipping amount receive pro...</td>\n",
              "    </tr>\n",
              "    <tr>\n",
              "      <th>1</th>\n",
              "      <td>credit_card</td>\n",
              "      <td>forwarded message date tue subject please inve...</td>\n",
              "    </tr>\n",
              "    <tr>\n",
              "      <th>2</th>\n",
              "      <td>retail_banking</td>\n",
              "      <td>forwarded message cc sent friday pdt subject f...</td>\n",
              "    </tr>\n",
              "    <tr>\n",
              "      <th>3</th>\n",
              "      <td>credit_reporting</td>\n",
              "      <td>payment history missing credit report speciali...</td>\n",
              "    </tr>\n",
              "    <tr>\n",
              "      <th>4</th>\n",
              "      <td>credit_reporting</td>\n",
              "      <td>payment history missing credit report made mis...</td>\n",
              "    </tr>\n",
              "    <tr>\n",
              "      <th>...</th>\n",
              "      <td>...</td>\n",
              "      <td>...</td>\n",
              "    </tr>\n",
              "    <tr>\n",
              "      <th>162416</th>\n",
              "      <td>debt_collection</td>\n",
              "      <td>name</td>\n",
              "    </tr>\n",
              "    <tr>\n",
              "      <th>162417</th>\n",
              "      <td>credit_card</td>\n",
              "      <td>name</td>\n",
              "    </tr>\n",
              "    <tr>\n",
              "      <th>162418</th>\n",
              "      <td>debt_collection</td>\n",
              "      <td>name</td>\n",
              "    </tr>\n",
              "    <tr>\n",
              "      <th>162419</th>\n",
              "      <td>credit_card</td>\n",
              "      <td>name</td>\n",
              "    </tr>\n",
              "    <tr>\n",
              "      <th>162420</th>\n",
              "      <td>credit_reporting</td>\n",
              "      <td>name</td>\n",
              "    </tr>\n",
              "  </tbody>\n",
              "</table>\n",
              "<p>162421 rows × 2 columns</p>\n",
              "</div>\n",
              "    <div class=\"colab-df-buttons\">\n",
              "\n",
              "  <div class=\"colab-df-container\">\n",
              "    <button class=\"colab-df-convert\" onclick=\"convertToInteractive('df-9f0b19fa-da98-42c3-a31f-74885696fde6')\"\n",
              "            title=\"Convert this dataframe to an interactive table.\"\n",
              "            style=\"display:none;\">\n",
              "\n",
              "  <svg xmlns=\"http://www.w3.org/2000/svg\" height=\"24px\" viewBox=\"0 -960 960 960\">\n",
              "    <path d=\"M120-120v-720h720v720H120Zm60-500h600v-160H180v160Zm220 220h160v-160H400v160Zm0 220h160v-160H400v160ZM180-400h160v-160H180v160Zm440 0h160v-160H620v160ZM180-180h160v-160H180v160Zm440 0h160v-160H620v160Z\"/>\n",
              "  </svg>\n",
              "    </button>\n",
              "\n",
              "  <style>\n",
              "    .colab-df-container {\n",
              "      display:flex;\n",
              "      gap: 12px;\n",
              "    }\n",
              "\n",
              "    .colab-df-convert {\n",
              "      background-color: #E8F0FE;\n",
              "      border: none;\n",
              "      border-radius: 50%;\n",
              "      cursor: pointer;\n",
              "      display: none;\n",
              "      fill: #1967D2;\n",
              "      height: 32px;\n",
              "      padding: 0 0 0 0;\n",
              "      width: 32px;\n",
              "    }\n",
              "\n",
              "    .colab-df-convert:hover {\n",
              "      background-color: #E2EBFA;\n",
              "      box-shadow: 0px 1px 2px rgba(60, 64, 67, 0.3), 0px 1px 3px 1px rgba(60, 64, 67, 0.15);\n",
              "      fill: #174EA6;\n",
              "    }\n",
              "\n",
              "    .colab-df-buttons div {\n",
              "      margin-bottom: 4px;\n",
              "    }\n",
              "\n",
              "    [theme=dark] .colab-df-convert {\n",
              "      background-color: #3B4455;\n",
              "      fill: #D2E3FC;\n",
              "    }\n",
              "\n",
              "    [theme=dark] .colab-df-convert:hover {\n",
              "      background-color: #434B5C;\n",
              "      box-shadow: 0px 1px 3px 1px rgba(0, 0, 0, 0.15);\n",
              "      filter: drop-shadow(0px 1px 2px rgba(0, 0, 0, 0.3));\n",
              "      fill: #FFFFFF;\n",
              "    }\n",
              "  </style>\n",
              "\n",
              "    <script>\n",
              "      const buttonEl =\n",
              "        document.querySelector('#df-9f0b19fa-da98-42c3-a31f-74885696fde6 button.colab-df-convert');\n",
              "      buttonEl.style.display =\n",
              "        google.colab.kernel.accessAllowed ? 'block' : 'none';\n",
              "\n",
              "      async function convertToInteractive(key) {\n",
              "        const element = document.querySelector('#df-9f0b19fa-da98-42c3-a31f-74885696fde6');\n",
              "        const dataTable =\n",
              "          await google.colab.kernel.invokeFunction('convertToInteractive',\n",
              "                                                    [key], {});\n",
              "        if (!dataTable) return;\n",
              "\n",
              "        const docLinkHtml = 'Like what you see? Visit the ' +\n",
              "          '<a target=\"_blank\" href=https://colab.research.google.com/notebooks/data_table.ipynb>data table notebook</a>'\n",
              "          + ' to learn more about interactive tables.';\n",
              "        element.innerHTML = '';\n",
              "        dataTable['output_type'] = 'display_data';\n",
              "        await google.colab.output.renderOutput(dataTable, element);\n",
              "        const docLink = document.createElement('div');\n",
              "        docLink.innerHTML = docLinkHtml;\n",
              "        element.appendChild(docLink);\n",
              "      }\n",
              "    </script>\n",
              "  </div>\n",
              "\n",
              "\n",
              "<div id=\"df-e338bd9c-30b1-4917-8ebd-daa1ae7d7d02\">\n",
              "  <button class=\"colab-df-quickchart\" onclick=\"quickchart('df-e338bd9c-30b1-4917-8ebd-daa1ae7d7d02')\"\n",
              "            title=\"Suggest charts.\"\n",
              "            style=\"display:none;\">\n",
              "\n",
              "<svg xmlns=\"http://www.w3.org/2000/svg\" height=\"24px\"viewBox=\"0 0 24 24\"\n",
              "     width=\"24px\">\n",
              "    <g>\n",
              "        <path d=\"M19 3H5c-1.1 0-2 .9-2 2v14c0 1.1.9 2 2 2h14c1.1 0 2-.9 2-2V5c0-1.1-.9-2-2-2zM9 17H7v-7h2v7zm4 0h-2V7h2v10zm4 0h-2v-4h2v4z\"/>\n",
              "    </g>\n",
              "</svg>\n",
              "  </button>\n",
              "\n",
              "<style>\n",
              "  .colab-df-quickchart {\n",
              "      --bg-color: #E8F0FE;\n",
              "      --fill-color: #1967D2;\n",
              "      --hover-bg-color: #E2EBFA;\n",
              "      --hover-fill-color: #174EA6;\n",
              "      --disabled-fill-color: #AAA;\n",
              "      --disabled-bg-color: #DDD;\n",
              "  }\n",
              "\n",
              "  [theme=dark] .colab-df-quickchart {\n",
              "      --bg-color: #3B4455;\n",
              "      --fill-color: #D2E3FC;\n",
              "      --hover-bg-color: #434B5C;\n",
              "      --hover-fill-color: #FFFFFF;\n",
              "      --disabled-bg-color: #3B4455;\n",
              "      --disabled-fill-color: #666;\n",
              "  }\n",
              "\n",
              "  .colab-df-quickchart {\n",
              "    background-color: var(--bg-color);\n",
              "    border: none;\n",
              "    border-radius: 50%;\n",
              "    cursor: pointer;\n",
              "    display: none;\n",
              "    fill: var(--fill-color);\n",
              "    height: 32px;\n",
              "    padding: 0;\n",
              "    width: 32px;\n",
              "  }\n",
              "\n",
              "  .colab-df-quickchart:hover {\n",
              "    background-color: var(--hover-bg-color);\n",
              "    box-shadow: 0 1px 2px rgba(60, 64, 67, 0.3), 0 1px 3px 1px rgba(60, 64, 67, 0.15);\n",
              "    fill: var(--button-hover-fill-color);\n",
              "  }\n",
              "\n",
              "  .colab-df-quickchart-complete:disabled,\n",
              "  .colab-df-quickchart-complete:disabled:hover {\n",
              "    background-color: var(--disabled-bg-color);\n",
              "    fill: var(--disabled-fill-color);\n",
              "    box-shadow: none;\n",
              "  }\n",
              "\n",
              "  .colab-df-spinner {\n",
              "    border: 2px solid var(--fill-color);\n",
              "    border-color: transparent;\n",
              "    border-bottom-color: var(--fill-color);\n",
              "    animation:\n",
              "      spin 1s steps(1) infinite;\n",
              "  }\n",
              "\n",
              "  @keyframes spin {\n",
              "    0% {\n",
              "      border-color: transparent;\n",
              "      border-bottom-color: var(--fill-color);\n",
              "      border-left-color: var(--fill-color);\n",
              "    }\n",
              "    20% {\n",
              "      border-color: transparent;\n",
              "      border-left-color: var(--fill-color);\n",
              "      border-top-color: var(--fill-color);\n",
              "    }\n",
              "    30% {\n",
              "      border-color: transparent;\n",
              "      border-left-color: var(--fill-color);\n",
              "      border-top-color: var(--fill-color);\n",
              "      border-right-color: var(--fill-color);\n",
              "    }\n",
              "    40% {\n",
              "      border-color: transparent;\n",
              "      border-right-color: var(--fill-color);\n",
              "      border-top-color: var(--fill-color);\n",
              "    }\n",
              "    60% {\n",
              "      border-color: transparent;\n",
              "      border-right-color: var(--fill-color);\n",
              "    }\n",
              "    80% {\n",
              "      border-color: transparent;\n",
              "      border-right-color: var(--fill-color);\n",
              "      border-bottom-color: var(--fill-color);\n",
              "    }\n",
              "    90% {\n",
              "      border-color: transparent;\n",
              "      border-bottom-color: var(--fill-color);\n",
              "    }\n",
              "  }\n",
              "</style>\n",
              "\n",
              "  <script>\n",
              "    async function quickchart(key) {\n",
              "      const quickchartButtonEl =\n",
              "        document.querySelector('#' + key + ' button');\n",
              "      quickchartButtonEl.disabled = true;  // To prevent multiple clicks.\n",
              "      quickchartButtonEl.classList.add('colab-df-spinner');\n",
              "      try {\n",
              "        const charts = await google.colab.kernel.invokeFunction(\n",
              "            'suggestCharts', [key], {});\n",
              "      } catch (error) {\n",
              "        console.error('Error during call to suggestCharts:', error);\n",
              "      }\n",
              "      quickchartButtonEl.classList.remove('colab-df-spinner');\n",
              "      quickchartButtonEl.classList.add('colab-df-quickchart-complete');\n",
              "    }\n",
              "    (() => {\n",
              "      let quickchartButtonEl =\n",
              "        document.querySelector('#df-e338bd9c-30b1-4917-8ebd-daa1ae7d7d02 button');\n",
              "      quickchartButtonEl.style.display =\n",
              "        google.colab.kernel.accessAllowed ? 'block' : 'none';\n",
              "    })();\n",
              "  </script>\n",
              "</div>\n",
              "    </div>\n",
              "  </div>\n"
            ]
          },
          "metadata": {},
          "execution_count": 147
        }
      ],
      "source": [
        "# i will load the dataset, and see how many lines and columns it have\n",
        "df = pd.read_csv(\"complaints_processed.csv\")\n",
        "df = df.set_index(df.columns[0])\n",
        "df"
      ]
    },
    {
      "cell_type": "markdown",
      "metadata": {
        "id": "j93CCGUMOd4w"
      },
      "source": [
        "The dataset is basically a column for the complaints and a column for the type of products of each complaint\n",
        "\n",
        "But here in this pipeline i will try to find more details about the complaints"
      ]
    },
    {
      "cell_type": "code",
      "execution_count": null,
      "metadata": {
        "colab": {
          "base_uri": "https://localhost:8080/"
        },
        "id": "G1y8Cu5DOf7m",
        "outputId": "2075e693-e0f7-472e-fc1b-8f85ddac7a13"
      },
      "outputs": [
        {
          "output_type": "execute_result",
          "data": {
            "text/plain": [
              "product       0\n",
              "narrative    10\n",
              "dtype: int64"
            ]
          },
          "metadata": {},
          "execution_count": 148
        }
      ],
      "source": [
        "# Here i want to find missing data in the training set\n",
        "# i will delete them with dropna in case ant exists\n",
        "dfnull = df.isna().sum()\n",
        "dfnull"
      ]
    },
    {
      "cell_type": "code",
      "execution_count": null,
      "metadata": {
        "id": "7MEAS-qgOhyd"
      },
      "outputs": [],
      "source": [
        "# the empty rows are just in the narrative column\n",
        "df = df.dropna()"
      ]
    },
    {
      "cell_type": "code",
      "execution_count": null,
      "metadata": {
        "colab": {
          "base_uri": "https://localhost:8080/"
        },
        "id": "QY_w0H9YOjET",
        "outputId": "bed8dd75-d379-4aaa-a4dc-b3b1cd2df61d"
      },
      "outputs": [
        {
          "output_type": "execute_result",
          "data": {
            "text/plain": [
              "Unnamed: 0\n",
              "0         purchase order day shipping amount receive pro...\n",
              "1         forwarded message date tue subject please inve...\n",
              "2         forwarded message cc sent friday pdt subject f...\n",
              "3         payment history missing credit report speciali...\n",
              "4         payment history missing credit report made mis...\n",
              "                                ...                        \n",
              "162416                                                 name\n",
              "162417                                                 name\n",
              "162418                                                 name\n",
              "162419                                                 name\n",
              "162420                                                 name\n",
              "Name: narrative, Length: 162411, dtype: object"
            ]
          },
          "metadata": {},
          "execution_count": 150
        }
      ],
      "source": [
        "# i want to have several copies of the column during the changes i make to it\n",
        "# that's why i keep using different variable name to each change\n",
        "df2 = df['narrative']\n",
        "df2"
      ]
    },
    {
      "cell_type": "code",
      "execution_count": null,
      "metadata": {
        "colab": {
          "base_uri": "https://localhost:8080/"
        },
        "id": "XA1UT2C1OmdK",
        "outputId": "1a351bec-8f59-4d31-c432-a52672259210"
      },
      "outputs": [
        {
          "output_type": "execute_result",
          "data": {
            "text/plain": [
              "37939"
            ]
          },
          "metadata": {},
          "execution_count": 151
        }
      ],
      "source": [
        "# Here i want to find duplicate rows\n",
        "# we should delete them\n",
        "dfduplicate = df2.duplicated().sum()\n",
        "dfduplicate"
      ]
    },
    {
      "cell_type": "code",
      "execution_count": null,
      "metadata": {
        "colab": {
          "base_uri": "https://localhost:8080/"
        },
        "id": "TK0f7F6GOnxc",
        "outputId": "8d2d8c9c-4438-4798-bde9-6b8c9459092a"
      },
      "outputs": [
        {
          "output_type": "stream",
          "name": "stdout",
          "text": [
            "(124472,)\n"
          ]
        }
      ],
      "source": [
        "# we have 162411 rows,and 37939 duplicates\n",
        "# now i will delete the duplicates since i will still have most of the data\n",
        "df2 = df2.drop_duplicates()\n",
        "print(df2.shape)"
      ]
    },
    {
      "cell_type": "code",
      "execution_count": null,
      "metadata": {
        "colab": {
          "base_uri": "https://localhost:8080/"
        },
        "id": "eb7TSA-pOqzE",
        "outputId": "3b205880-fbf3-4a33-9d3c-8434617feb31"
      },
      "outputs": [
        {
          "output_type": "execute_result",
          "data": {
            "text/plain": [
              "Unnamed: 0\n",
              "0         purchase order day shipping amount receive pro...\n",
              "1         forwarded message date tue subject please inve...\n",
              "2         forwarded message cc sent friday pdt subject f...\n",
              "3         payment history missing credit report speciali...\n",
              "4         payment history missing credit report made mis...\n",
              "                                ...                        \n",
              "162411    zelle suspended account without cause banking ...\n",
              "162412    zero contact made debt supposedly resolved fou...\n",
              "162413    zillow home loan nmls nmls actual quote provid...\n",
              "162414    zuntafi sent notice willing settle defaulted s...\n",
              "162415                                                 name\n",
              "Name: narrative, Length: 124472, dtype: object"
            ]
          },
          "metadata": {},
          "execution_count": 153
        }
      ],
      "source": [
        "df2"
      ]
    },
    {
      "cell_type": "code",
      "execution_count": null,
      "metadata": {
        "colab": {
          "base_uri": "https://localhost:8080/"
        },
        "id": "bKjgoSdNOsib",
        "outputId": "a1c566eb-6c17-4d3c-ad36-46fdab7c424b"
      },
      "outputs": [
        {
          "output_type": "execute_result",
          "data": {
            "text/plain": [
              "Unnamed: 0\n",
              "0         purchase order day shipping amount receive pro...\n",
              "1         forwarded message date tue subject please inve...\n",
              "2         forwarded message cc sent friday pdt subject f...\n",
              "3         payment history missing credit report speciali...\n",
              "4         payment history missing credit report made mis...\n",
              "                                ...                        \n",
              "162410    zales comenity bank closed sold account report...\n",
              "162411    zelle suspended account without cause banking ...\n",
              "162412    zero contact made debt supposedly resolved fou...\n",
              "162413    zillow home loan nmls nmls actual quote provid...\n",
              "162414    zuntafi sent notice willing settle defaulted s...\n",
              "Name: narrative, Length: 124471, dtype: object"
            ]
          },
          "metadata": {},
          "execution_count": 154
        }
      ],
      "source": [
        "# here i will delete the column where we only have name\n",
        "# is the only written word in the complaint\n",
        "df2.drop(162415, inplace=True)\n",
        "df3 = df2\n",
        "df3"
      ]
    },
    {
      "cell_type": "markdown",
      "metadata": {
        "id": "KZuKPwD6Ox7W"
      },
      "source": [
        "Tokenization, POS, Stopwords"
      ]
    },
    {
      "cell_type": "code",
      "execution_count": null,
      "metadata": {
        "colab": {
          "base_uri": "https://localhost:8080/"
        },
        "id": "LklDJSJKOzTd",
        "outputId": "07b3e865-d4ab-4f4a-b832-c1220f99129d"
      },
      "outputs": [
        {
          "output_type": "stream",
          "name": "stderr",
          "text": [
            "[nltk_data] Downloading package punkt to /root/nltk_data...\n",
            "[nltk_data]   Package punkt is already up-to-date!\n",
            "[nltk_data] Downloading package stopwords to /root/nltk_data...\n",
            "[nltk_data]   Package stopwords is already up-to-date!\n"
          ]
        }
      ],
      "source": [
        "# now i wan to use tokenization and remove irrelevant stopwords\n",
        "nltk.download('punkt')\n",
        "nltk.download('stopwords')\n",
        "\n",
        "stop_words = set(stopwords.words('english'))"
      ]
    },
    {
      "cell_type": "code",
      "execution_count": null,
      "metadata": {
        "id": "DKd5dRQ0cX2-"
      },
      "outputs": [],
      "source": [
        "# i will define a function that do tokenizationa, remove stopwords and do lemmatization\n",
        "def preprocessdata(texts):\n",
        "    W = word_tokenize(texts.lower())\n",
        "    W = [token for token in W if token not in stop_words]\n",
        "    lem = WordNetLemmatizer()\n",
        "    W = [lem.lemmatize(token) for token in W]\n",
        "    return W"
      ]
    },
    {
      "cell_type": "code",
      "execution_count": null,
      "metadata": {
        "id": "c5b1-JH7yFNz"
      },
      "outputs": [],
      "source": [
        "# i will apply the function\n",
        "df4 = df3.apply(preprocessdata)"
      ]
    },
    {
      "cell_type": "code",
      "execution_count": null,
      "metadata": {
        "colab": {
          "base_uri": "https://localhost:8080/"
        },
        "id": "0OXPPL-zRLjU",
        "outputId": "f1135e2c-1754-4f06-e057-077b3ab3f2d4"
      },
      "outputs": [
        {
          "output_type": "execute_result",
          "data": {
            "text/plain": [
              "Unnamed: 0\n",
              "0         [purchase, order, day, shipping, amount, recei...\n",
              "1         [forwarded, message, date, tue, subject, pleas...\n",
              "2         [forwarded, message, cc, sent, friday, pdt, su...\n",
              "3         [payment, history, missing, credit, report, sp...\n",
              "4         [payment, history, missing, credit, report, ma...\n",
              "                                ...                        \n",
              "162410    [zales, comenity, bank, closed, sold, account,...\n",
              "162411    [zelle, suspended, account, without, cause, ba...\n",
              "162412    [zero, contact, made, debt, supposedly, resolv...\n",
              "162413    [zillow, home, loan, nmls, nmls, actual, quote...\n",
              "162414    [zuntafi, sent, notice, willing, settle, defau...\n",
              "Name: narrative, Length: 124471, dtype: object"
            ]
          },
          "metadata": {},
          "execution_count": 158
        }
      ],
      "source": [
        "df4"
      ]
    },
    {
      "cell_type": "markdown",
      "metadata": {
        "id": "ukI6RepvxL0f"
      },
      "source": [
        "# Doc2bow and LDA"
      ]
    },
    {
      "cell_type": "code",
      "execution_count": null,
      "metadata": {
        "id": "HSE-u8snBRCB"
      },
      "outputs": [],
      "source": [
        "# import Lda for topic modeling and ldamutlicore for a better and faster performance\n",
        "from sklearn.decomposition import LatentDirichletAllocation\n",
        "from gensim.models.ldamulticore import LdaMulticore\n",
        "# import corpora for bag of words and models for LDA\n",
        "from gensim import corpora, models\n",
        "# control warning messages\n",
        "import warnings\n",
        "warnings.simplefilter('ignore', category=DeprecationWarning)"
      ]
    },
    {
      "cell_type": "code",
      "execution_count": null,
      "metadata": {
        "colab": {
          "base_uri": "https://localhost:8080/"
        },
        "id": "QZ9VW664J4t2",
        "outputId": "9cbc8380-ff8d-4288-9c78-62cb3acbcffa"
      },
      "outputs": [
        {
          "output_type": "stream",
          "name": "stdout",
          "text": [
            "7026902\n"
          ]
        }
      ],
      "source": [
        "# creatung gensim dicitonary from the list\n",
        "dictionary = corpora.Dictionary(df4)\n",
        "print(dictionary.num_nnz)"
      ]
    },
    {
      "cell_type": "code",
      "execution_count": null,
      "metadata": {
        "id": "C0hg7KGOJPAz"
      },
      "outputs": [],
      "source": [
        "# using doc2bow\n",
        "doctermmatrix = [dictionary.doc2bow(doc) for doc in df4]"
      ]
    },
    {
      "cell_type": "code",
      "execution_count": null,
      "metadata": {
        "id": "-JQWAiTB8yTJ"
      },
      "outputs": [],
      "source": [
        "# the lda model\n",
        "lda = gensim.models.ldamodel.LdaModel"
      ]
    },
    {
      "cell_type": "code",
      "execution_count": null,
      "metadata": {
        "id": "d43aduOuQYjw"
      },
      "outputs": [],
      "source": [
        "ldamodel = lda(doctermmatrix, num_topics=8, id2word=dictionary, passes=10, minimum_probability=0)"
      ]
    },
    {
      "cell_type": "code",
      "execution_count": null,
      "metadata": {
        "colab": {
          "base_uri": "https://localhost:8080/"
        },
        "id": "ZdU1eR-yQY_a",
        "outputId": "0c70882d-6a68-43ee-a512-093d8873d15f"
      },
      "outputs": [
        {
          "output_type": "execute_result",
          "data": {
            "text/plain": [
              "[(6,\n",
              "  '0.020*\"call\" + 0.019*\"told\" + 0.018*\"called\" + 0.017*\"would\" + 0.016*\"time\" + 0.015*\"get\" + 0.015*\"said\" + 0.014*\"back\" + 0.012*\"phone\" + 0.010*\"could\"'),\n",
              " (2,\n",
              "  '0.076*\"account\" + 0.062*\"credit\" + 0.052*\"payment\" + 0.041*\"balance\" + 0.032*\"late\" + 0.023*\"date\" + 0.022*\"report\" + 0.020*\"reporting\" + 0.017*\"paid\" + 0.015*\"due\"'),\n",
              " (5,\n",
              "  '0.080*\"credit\" + 0.055*\"report\" + 0.045*\"account\" + 0.037*\"information\" + 0.024*\"inquiry\" + 0.016*\"reporting\" + 0.014*\"please\" + 0.014*\"inaccurate\" + 0.012*\"remove\" + 0.012*\"item\"'),\n",
              " (0,\n",
              "  '0.051*\"debt\" + 0.025*\"collection\" + 0.020*\"credit\" + 0.018*\"letter\" + 0.018*\"company\" + 0.016*\"account\" + 0.014*\"sent\" + 0.010*\"provide\" + 0.010*\"original\" + 0.009*\"proof\"'),\n",
              " (4,\n",
              "  '0.054*\"loan\" + 0.035*\"payment\" + 0.030*\"mortgage\" + 0.010*\"u\" + 0.009*\"would\" + 0.009*\"home\" + 0.009*\"received\" + 0.008*\"amount\" + 0.008*\"interest\" + 0.008*\"month\"'),\n",
              " (3,\n",
              "  '0.051*\"account\" + 0.040*\"bank\" + 0.033*\"card\" + 0.016*\"charge\" + 0.014*\"money\" + 0.011*\"transaction\" + 0.010*\"chase\" + 0.010*\"check\" + 0.010*\"fund\" + 0.009*\"fraud\"'),\n",
              " (1,\n",
              "  '0.039*\"consumer\" + 0.036*\"information\" + 0.031*\"act\" + 0.030*\"reporting\" + 0.024*\"fair\" + 0.020*\"section\" + 0.019*\"violation\" + 0.016*\"agency\" + 0.014*\"fcra\" + 0.012*\"may\"')]"
            ]
          },
          "metadata": {},
          "execution_count": 170
        }
      ],
      "source": [
        "ldamodel.print_topics(num_topics=num_topics)"
      ]
    },
    {
      "cell_type": "code",
      "execution_count": null,
      "metadata": {
        "colab": {
          "base_uri": "https://localhost:8080/"
        },
        "id": "t1znSyHRZBat",
        "outputId": "fcfc7bdc-529e-4d17-8396-39a37c3f3134"
      },
      "outputs": [
        {
          "output_type": "stream",
          "name": "stdout",
          "text": [
            "Topic 0: debt, collection, credit, letter, company, account, sent, provide, original, proof\n",
            "Topic 1: consumer, information, act, reporting, fair, section, violation, agency, fcra, may\n",
            "Topic 2: account, credit, payment, balance, late, date, report, reporting, paid, due\n",
            "Topic 3: account, bank, card, charge, money, transaction, chase, check, fund, fraud\n",
            "Topic 4: loan, payment, mortgage, u, would, home, received, amount, interest, month\n",
            "Topic 5: credit, report, account, information, inquiry, reporting, please, inaccurate, remove, item\n",
            "Topic 6: call, told, called, would, time, get, said, back, phone, could\n",
            "Topic 7: credit, car, year, financial, fee, time, vehicle, complaint, interest, due\n"
          ]
        }
      ],
      "source": [
        "from gensim import models\n",
        "\n",
        "\n",
        "# Define the number of topics and top-k words\n",
        "num_topics = 8\n",
        "top_k_words = 10\n",
        "\n",
        "# Get the most representative words for each topic\n",
        "topic_keywords = ldamodel.show_topics(num_topics=num_topics, num_words=top_k_words)\n",
        "\n",
        "# Define meaningful names for each topic based on the top keywords\n",
        "topic_names = []\n",
        "\n",
        "for topic in topic_keywords:\n",
        "    words = topic[1].split(' + ')\n",
        "    keywords = [word.split('*')[1].strip('\"') for word in words]\n",
        "    topic_name = ', '.join(keywords)  # we can modify this to create a meaningful name based on the keywords\n",
        "    topic_names.append(topic_name)\n",
        "\n",
        "# Print the topics with their assigned names\n",
        "for i, topic_name in enumerate(topic_names):\n",
        "    print(f\"Topic {i}: {topic_name}\")"
      ]
    },
    {
      "cell_type": "code",
      "execution_count": null,
      "metadata": {
        "colab": {
          "base_uri": "https://localhost:8080/"
        },
        "id": "d4D0m9VCeQou",
        "outputId": "01befaf0-380b-4c79-d8bd-b7c8e7f8f0e5"
      },
      "outputs": [
        {
          "output_type": "stream",
          "name": "stdout",
          "text": [
            "Topic 0: debt collect, report - Keywords: debt, collection, credit, letter, company, account, sent, provide, original, proof\n",
            "Topic 1: Reporting credit FCRA issues - Keywords: consumer, information, act, reporting, fair, section, violation, agency, fcra, may\n",
            "Topic 2: Credit payments issues - Keywords: account, credit, payment, balance, late, date, report, reporting, paid, due\n",
            "Topic 3: Cards, transactions chekcing and security issues - Keywords: account, bank, card, charge, money, transaction, chase, check, fund, fraud\n",
            "Topic 4: Loan and mortgage - Keywords: loan, payment, mortgage, u, would, home, received, amount, interest, month\n",
            "Topic 5: Credit report information issues and inaccuracies - Keywords: credit, report, account, information, inquiry, reporting, please, inaccurate, remove, item\n",
            "Topic 6: Customer service problems - Keywords: call, told, called, would, time, get, said, back, phone, could\n",
            "Topic 7: Car Loans and finacial fees complaints - Keywords: credit, car, year, financial, fee, time, vehicle, complaint, interest, due\n"
          ]
        }
      ],
      "source": [
        "# assign names to the topic from the words we got from previous code\n",
        "# these names will be used for the visulaization\n",
        "topic_names = [\n",
        "    \"debt collect, report\",\n",
        "    \"Reporting credit FCRA issues\",\n",
        "    \"Credit payments issues\",\n",
        "    \"Cards, transactions chekcing and security issues\",\n",
        "    \"Loan and mortgage\",\n",
        "    \"Credit report information issues and inaccuracies\",\n",
        "    \"Customer service problems\",\n",
        "    \"Car Loans and finacial fees complaints\"\n",
        "]\n",
        "\n",
        "# Print the topics with their assigned names\n",
        "for i, (topic, topic_name) in enumerate(zip(topic_keywords, topic_names)):\n",
        "    words = topic[1].split(' + ')\n",
        "    keywords = [word.split('*')[1].strip('\"') for word in words]\n",
        "    keywords_str = ', '.join(keywords)\n",
        "    print(f\"Topic {i}: {topic_name} - Keywords: {keywords_str}\")"
      ]
    },
    {
      "cell_type": "code",
      "execution_count": null,
      "metadata": {
        "id": "Anr26jWoy9xU"
      },
      "outputs": [],
      "source": [
        "# Function to assign a topic label to each cell in the column\n",
        "def assign_topic_label(text):\n",
        "    if isinstance(text, str):\n",
        "        bow_vector = ldamodel.id2word.doc2bow(text.split())\n",
        "    elif isinstance(text, list):\n",
        "        bow_vector = ldamodel.id2word.doc2bow(text)\n",
        "    else:\n",
        "        raise ValueError(\"Invalid input type. Expected string or list.\")\n",
        "\n",
        "    topic_probability = max(ldamodel.get_document_topics(bow_vector), key=lambda x: x[1])\n",
        "    topic_label = topic_probability[0]\n",
        "    return topic_names[topic_label]\n",
        "\n",
        "# Assign topic labels to each cell in the column\n",
        "df['topic_label'] = df4.apply(assign_topic_label)"
      ]
    },
    {
      "cell_type": "code",
      "execution_count": null,
      "metadata": {
        "id": "-Gq7GYLOBRZS"
      },
      "outputs": [],
      "source": [
        "# combine the topic label with df4\n",
        "combined_df = pd.concat([df4, df['topic_label']], axis=1)"
      ]
    },
    {
      "cell_type": "code",
      "execution_count": null,
      "metadata": {
        "id": "rdE1OIRxBWVu"
      },
      "outputs": [],
      "source": [
        "# make a csv file from the combind file\n",
        "combined_df.to_csv('combined_data.csv', index=False)"
      ]
    },
    {
      "cell_type": "code",
      "execution_count": null,
      "metadata": {
        "id": "v2K58_rpBcm2"
      },
      "outputs": [],
      "source": [
        "# assigninhg a variable name to the file\n",
        "finaldf = pd.read_csv(\"combined_data.csv\")"
      ]
    },
    {
      "cell_type": "code",
      "execution_count": null,
      "metadata": {
        "colab": {
          "base_uri": "https://localhost:8080/",
          "height": 4629
        },
        "id": "lCNA46Ff0cN9",
        "outputId": "f44177b5-12ea-414f-ec61-c8d12a1855de"
      },
      "outputs": [
        {
          "output_type": "execute_result",
          "data": {
            "text/plain": [
              "                                                narrative  \\\n",
              "0       ['purchase', 'order', 'day', 'shipping', 'amou...   \n",
              "1       ['forwarded', 'message', 'date', 'tue', 'subje...   \n",
              "2       ['forwarded', 'message', 'cc', 'sent', 'friday...   \n",
              "3       ['payment', 'history', 'missing', 'credit', 'r...   \n",
              "4       ['payment', 'history', 'missing', 'credit', 'r...   \n",
              "...                                                   ...   \n",
              "124466  ['zales', 'comenity', 'bank', 'closed', 'sold'...   \n",
              "124467  ['zelle', 'suspended', 'account', 'without', '...   \n",
              "124468  ['zero', 'contact', 'made', 'debt', 'supposedl...   \n",
              "124469  ['zillow', 'home', 'loan', 'nmls', 'nmls', 'ac...   \n",
              "124470  ['zuntafi', 'sent', 'notice', 'willing', 'sett...   \n",
              "\n",
              "                                             topic_label  \n",
              "0       Cards, transactions chekcing and security issues  \n",
              "1                                 Credit payments issues  \n",
              "2       Cards, transactions chekcing and security issues  \n",
              "3                                      Loan and mortgage  \n",
              "4                                 Credit payments issues  \n",
              "...                                                  ...  \n",
              "124466                            Credit payments issues  \n",
              "124467  Cards, transactions chekcing and security issues  \n",
              "124468                         Customer service problems  \n",
              "124469                                 Loan and mortgage  \n",
              "124470                              debt collect, report  \n",
              "\n",
              "[124471 rows x 2 columns]"
            ],
            "text/html": [
              "\n",
              "  <div id=\"df-75c423a1-f2ec-4866-8778-5c9687894535\" class=\"colab-df-container\">\n",
              "    <div>\n",
              "<style scoped>\n",
              "    .dataframe tbody tr th:only-of-type {\n",
              "        vertical-align: middle;\n",
              "    }\n",
              "\n",
              "    .dataframe tbody tr th {\n",
              "        vertical-align: top;\n",
              "    }\n",
              "\n",
              "    .dataframe thead th {\n",
              "        text-align: right;\n",
              "    }\n",
              "</style>\n",
              "<table border=\"1\" class=\"dataframe\">\n",
              "  <thead>\n",
              "    <tr style=\"text-align: right;\">\n",
              "      <th></th>\n",
              "      <th>narrative</th>\n",
              "      <th>topic_label</th>\n",
              "    </tr>\n",
              "  </thead>\n",
              "  <tbody>\n",
              "    <tr>\n",
              "      <th>0</th>\n",
              "      <td>['purchase', 'order', 'day', 'shipping', 'amou...</td>\n",
              "      <td>Cards, transactions chekcing and security issues</td>\n",
              "    </tr>\n",
              "    <tr>\n",
              "      <th>1</th>\n",
              "      <td>['forwarded', 'message', 'date', 'tue', 'subje...</td>\n",
              "      <td>Credit payments issues</td>\n",
              "    </tr>\n",
              "    <tr>\n",
              "      <th>2</th>\n",
              "      <td>['forwarded', 'message', 'cc', 'sent', 'friday...</td>\n",
              "      <td>Cards, transactions chekcing and security issues</td>\n",
              "    </tr>\n",
              "    <tr>\n",
              "      <th>3</th>\n",
              "      <td>['payment', 'history', 'missing', 'credit', 'r...</td>\n",
              "      <td>Loan and mortgage</td>\n",
              "    </tr>\n",
              "    <tr>\n",
              "      <th>4</th>\n",
              "      <td>['payment', 'history', 'missing', 'credit', 'r...</td>\n",
              "      <td>Credit payments issues</td>\n",
              "    </tr>\n",
              "    <tr>\n",
              "      <th>...</th>\n",
              "      <td>...</td>\n",
              "      <td>...</td>\n",
              "    </tr>\n",
              "    <tr>\n",
              "      <th>124466</th>\n",
              "      <td>['zales', 'comenity', 'bank', 'closed', 'sold'...</td>\n",
              "      <td>Credit payments issues</td>\n",
              "    </tr>\n",
              "    <tr>\n",
              "      <th>124467</th>\n",
              "      <td>['zelle', 'suspended', 'account', 'without', '...</td>\n",
              "      <td>Cards, transactions chekcing and security issues</td>\n",
              "    </tr>\n",
              "    <tr>\n",
              "      <th>124468</th>\n",
              "      <td>['zero', 'contact', 'made', 'debt', 'supposedl...</td>\n",
              "      <td>Customer service problems</td>\n",
              "    </tr>\n",
              "    <tr>\n",
              "      <th>124469</th>\n",
              "      <td>['zillow', 'home', 'loan', 'nmls', 'nmls', 'ac...</td>\n",
              "      <td>Loan and mortgage</td>\n",
              "    </tr>\n",
              "    <tr>\n",
              "      <th>124470</th>\n",
              "      <td>['zuntafi', 'sent', 'notice', 'willing', 'sett...</td>\n",
              "      <td>debt collect, report</td>\n",
              "    </tr>\n",
              "  </tbody>\n",
              "</table>\n",
              "<p>124471 rows × 2 columns</p>\n",
              "</div>\n",
              "    <div class=\"colab-df-buttons\">\n",
              "\n",
              "  <div class=\"colab-df-container\">\n",
              "    <button class=\"colab-df-convert\" onclick=\"convertToInteractive('df-75c423a1-f2ec-4866-8778-5c9687894535')\"\n",
              "            title=\"Convert this dataframe to an interactive table.\"\n",
              "            style=\"display:none;\">\n",
              "\n",
              "  <svg xmlns=\"http://www.w3.org/2000/svg\" height=\"24px\" viewBox=\"0 -960 960 960\">\n",
              "    <path d=\"M120-120v-720h720v720H120Zm60-500h600v-160H180v160Zm220 220h160v-160H400v160Zm0 220h160v-160H400v160ZM180-400h160v-160H180v160Zm440 0h160v-160H620v160ZM180-180h160v-160H180v160Zm440 0h160v-160H620v160Z\"/>\n",
              "  </svg>\n",
              "    </button>\n",
              "\n",
              "  <style>\n",
              "    .colab-df-container {\n",
              "      display:flex;\n",
              "      gap: 12px;\n",
              "    }\n",
              "\n",
              "    .colab-df-convert {\n",
              "      background-color: #E8F0FE;\n",
              "      border: none;\n",
              "      border-radius: 50%;\n",
              "      cursor: pointer;\n",
              "      display: none;\n",
              "      fill: #1967D2;\n",
              "      height: 32px;\n",
              "      padding: 0 0 0 0;\n",
              "      width: 32px;\n",
              "    }\n",
              "\n",
              "    .colab-df-convert:hover {\n",
              "      background-color: #E2EBFA;\n",
              "      box-shadow: 0px 1px 2px rgba(60, 64, 67, 0.3), 0px 1px 3px 1px rgba(60, 64, 67, 0.15);\n",
              "      fill: #174EA6;\n",
              "    }\n",
              "\n",
              "    .colab-df-buttons div {\n",
              "      margin-bottom: 4px;\n",
              "    }\n",
              "\n",
              "    [theme=dark] .colab-df-convert {\n",
              "      background-color: #3B4455;\n",
              "      fill: #D2E3FC;\n",
              "    }\n",
              "\n",
              "    [theme=dark] .colab-df-convert:hover {\n",
              "      background-color: #434B5C;\n",
              "      box-shadow: 0px 1px 3px 1px rgba(0, 0, 0, 0.15);\n",
              "      filter: drop-shadow(0px 1px 2px rgba(0, 0, 0, 0.3));\n",
              "      fill: #FFFFFF;\n",
              "    }\n",
              "  </style>\n",
              "\n",
              "    <script>\n",
              "      const buttonEl =\n",
              "        document.querySelector('#df-75c423a1-f2ec-4866-8778-5c9687894535 button.colab-df-convert');\n",
              "      buttonEl.style.display =\n",
              "        google.colab.kernel.accessAllowed ? 'block' : 'none';\n",
              "\n",
              "      async function convertToInteractive(key) {\n",
              "        const element = document.querySelector('#df-75c423a1-f2ec-4866-8778-5c9687894535');\n",
              "        const dataTable =\n",
              "          await google.colab.kernel.invokeFunction('convertToInteractive',\n",
              "                                                    [key], {});\n",
              "        if (!dataTable) return;\n",
              "\n",
              "        const docLinkHtml = 'Like what you see? Visit the ' +\n",
              "          '<a target=\"_blank\" href=https://colab.research.google.com/notebooks/data_table.ipynb>data table notebook</a>'\n",
              "          + ' to learn more about interactive tables.';\n",
              "        element.innerHTML = '';\n",
              "        dataTable['output_type'] = 'display_data';\n",
              "        await google.colab.output.renderOutput(dataTable, element);\n",
              "        const docLink = document.createElement('div');\n",
              "        docLink.innerHTML = docLinkHtml;\n",
              "        element.appendChild(docLink);\n",
              "      }\n",
              "    </script>\n",
              "  </div>\n",
              "\n",
              "\n",
              "<div id=\"df-5492b809-4362-4229-9e50-3877bef50201\">\n",
              "  <button class=\"colab-df-quickchart\" onclick=\"quickchart('df-5492b809-4362-4229-9e50-3877bef50201')\"\n",
              "            title=\"Suggest charts.\"\n",
              "            style=\"display:none;\">\n",
              "\n",
              "<svg xmlns=\"http://www.w3.org/2000/svg\" height=\"24px\"viewBox=\"0 0 24 24\"\n",
              "     width=\"24px\">\n",
              "    <g>\n",
              "        <path d=\"M19 3H5c-1.1 0-2 .9-2 2v14c0 1.1.9 2 2 2h14c1.1 0 2-.9 2-2V5c0-1.1-.9-2-2-2zM9 17H7v-7h2v7zm4 0h-2V7h2v10zm4 0h-2v-4h2v4z\"/>\n",
              "    </g>\n",
              "</svg>\n",
              "  </button>\n",
              "\n",
              "<style>\n",
              "  .colab-df-quickchart {\n",
              "      --bg-color: #E8F0FE;\n",
              "      --fill-color: #1967D2;\n",
              "      --hover-bg-color: #E2EBFA;\n",
              "      --hover-fill-color: #174EA6;\n",
              "      --disabled-fill-color: #AAA;\n",
              "      --disabled-bg-color: #DDD;\n",
              "  }\n",
              "\n",
              "  [theme=dark] .colab-df-quickchart {\n",
              "      --bg-color: #3B4455;\n",
              "      --fill-color: #D2E3FC;\n",
              "      --hover-bg-color: #434B5C;\n",
              "      --hover-fill-color: #FFFFFF;\n",
              "      --disabled-bg-color: #3B4455;\n",
              "      --disabled-fill-color: #666;\n",
              "  }\n",
              "\n",
              "  .colab-df-quickchart {\n",
              "    background-color: var(--bg-color);\n",
              "    border: none;\n",
              "    border-radius: 50%;\n",
              "    cursor: pointer;\n",
              "    display: none;\n",
              "    fill: var(--fill-color);\n",
              "    height: 32px;\n",
              "    padding: 0;\n",
              "    width: 32px;\n",
              "  }\n",
              "\n",
              "  .colab-df-quickchart:hover {\n",
              "    background-color: var(--hover-bg-color);\n",
              "    box-shadow: 0 1px 2px rgba(60, 64, 67, 0.3), 0 1px 3px 1px rgba(60, 64, 67, 0.15);\n",
              "    fill: var(--button-hover-fill-color);\n",
              "  }\n",
              "\n",
              "  .colab-df-quickchart-complete:disabled,\n",
              "  .colab-df-quickchart-complete:disabled:hover {\n",
              "    background-color: var(--disabled-bg-color);\n",
              "    fill: var(--disabled-fill-color);\n",
              "    box-shadow: none;\n",
              "  }\n",
              "\n",
              "  .colab-df-spinner {\n",
              "    border: 2px solid var(--fill-color);\n",
              "    border-color: transparent;\n",
              "    border-bottom-color: var(--fill-color);\n",
              "    animation:\n",
              "      spin 1s steps(1) infinite;\n",
              "  }\n",
              "\n",
              "  @keyframes spin {\n",
              "    0% {\n",
              "      border-color: transparent;\n",
              "      border-bottom-color: var(--fill-color);\n",
              "      border-left-color: var(--fill-color);\n",
              "    }\n",
              "    20% {\n",
              "      border-color: transparent;\n",
              "      border-left-color: var(--fill-color);\n",
              "      border-top-color: var(--fill-color);\n",
              "    }\n",
              "    30% {\n",
              "      border-color: transparent;\n",
              "      border-left-color: var(--fill-color);\n",
              "      border-top-color: var(--fill-color);\n",
              "      border-right-color: var(--fill-color);\n",
              "    }\n",
              "    40% {\n",
              "      border-color: transparent;\n",
              "      border-right-color: var(--fill-color);\n",
              "      border-top-color: var(--fill-color);\n",
              "    }\n",
              "    60% {\n",
              "      border-color: transparent;\n",
              "      border-right-color: var(--fill-color);\n",
              "    }\n",
              "    80% {\n",
              "      border-color: transparent;\n",
              "      border-right-color: var(--fill-color);\n",
              "      border-bottom-color: var(--fill-color);\n",
              "    }\n",
              "    90% {\n",
              "      border-color: transparent;\n",
              "      border-bottom-color: var(--fill-color);\n",
              "    }\n",
              "  }\n",
              "</style>\n",
              "\n",
              "  <script>\n",
              "    async function quickchart(key) {\n",
              "      const quickchartButtonEl =\n",
              "        document.querySelector('#' + key + ' button');\n",
              "      quickchartButtonEl.disabled = true;  // To prevent multiple clicks.\n",
              "      quickchartButtonEl.classList.add('colab-df-spinner');\n",
              "      try {\n",
              "        const charts = await google.colab.kernel.invokeFunction(\n",
              "            'suggestCharts', [key], {});\n",
              "      } catch (error) {\n",
              "        console.error('Error during call to suggestCharts:', error);\n",
              "      }\n",
              "      quickchartButtonEl.classList.remove('colab-df-spinner');\n",
              "      quickchartButtonEl.classList.add('colab-df-quickchart-complete');\n",
              "    }\n",
              "    (() => {\n",
              "      let quickchartButtonEl =\n",
              "        document.querySelector('#df-5492b809-4362-4229-9e50-3877bef50201 button');\n",
              "      quickchartButtonEl.style.display =\n",
              "        google.colab.kernel.accessAllowed ? 'block' : 'none';\n",
              "    })();\n",
              "  </script>\n",
              "</div>\n",
              "    </div>\n",
              "  </div>\n"
            ]
          },
          "metadata": {},
          "execution_count": 182
        },
        {
          "output_type": "stream",
          "name": "stdout",
          "text": [
            "Warning: total number of rows (124471) exceeds max_rows (20000). Limiting to first (20000) rows.\n"
          ]
        }
      ],
      "source": [
        "# removing none values and seeing the file\n",
        "finaldf = finaldf.dropna()\n",
        "finaldf"
      ]
    },
    {
      "cell_type": "code",
      "execution_count": null,
      "metadata": {
        "colab": {
          "base_uri": "https://localhost:8080/"
        },
        "id": "fO-nvtEbNiki",
        "outputId": "d33db0bb-3a29-44aa-af3c-d1f92fd9ed0a"
      },
      "outputs": [
        {
          "output_type": "stream",
          "name": "stdout",
          "text": [
            "Number of NaN values in 'column_name': 0\n"
          ]
        }
      ],
      "source": [
        "# Count the NaN values in the column\n",
        "nan_count = finaldf['topic_label'].isna().sum()\n",
        "\n",
        "print(f\"Number of NaN values in 'column_name': {nan_count}\")"
      ]
    },
    {
      "cell_type": "code",
      "execution_count": null,
      "metadata": {
        "colab": {
          "base_uri": "https://localhost:8080/",
          "height": 800
        },
        "id": "4TxGMtG_NKFx",
        "outputId": "56d52215-7fb7-4a20-b440-1feb39d99c72"
      },
      "outputs": [
        {
          "output_type": "display_data",
          "data": {
            "text/plain": [
              "<Figure size 640x480 with 1 Axes>"
            ],
            "image/png": "[encoded data removed]"
          },
          "metadata": {}
        }
      ],
      "source": [
        "# import matplotlib for visialization\n",
        "import matplotlib.pyplot as plt\n",
        "\n",
        "# Count the occurrences of each value in the column\n",
        "value_counts = finaldf['topic_label'].value_counts()\n",
        "\n",
        "# Plot the bar chart\n",
        "plt.bar(value_counts.index, value_counts.values)\n",
        "plt.xlabel('Values')\n",
        "plt.ylabel('Count')\n",
        "plt.title('Value Counts')\n",
        "plt.xticks(rotation=90)\n",
        "plt.show()"
      ]
    },
    {
      "cell_type": "markdown",
      "source": [
        "# Conclusion:\n",
        "\n",
        "In this pipeline, i  was trying to get the most important topics from a dataset about complaints and see what are their frequencies to see which problems the financeial institute is facing and which should have priority to be solved first to decrease much costs as possible\n",
        "\n",
        "I used NLP methods to extract most important and repeated words and assigned topic names for each one, and while the results might nnot be totally accurate, i still got results about some topics for the complaints and compared some to the texts we have.\n",
        "\n",
        "Other things we can try here to get more results is to use differnet topic numbers and different key words, also use \"Latent Semantic Analysis (LSA)\" and \"Bert\" methods and compare the results to see if the topics are accurate."
      ],
      "metadata": {
        "id": "WogZUITG_wou"
      }
    },
    {
      "cell_type": "markdown",
      "source": [
        "# Refrencing dataset:\n",
        "\n",
        "Tiwari.S, (2021), Consumer Complaints Dataset for NLP, Kaggle, Available at: https://www.kaggle.com/datasets/shashwatwork/consume-complaints-dataset-fo-nlp (Accessed: 27 June 2023)"
      ],
      "metadata": {
        "id": "4-4Z1ZaW_xAb"
      }
    }
  ],
  "metadata": {
    "colab": {
      "provenance": []
    },
    "kernelspec": {
      "display_name": "Python 3",
      "name": "python3"
    },
    "language_info": {
      "name": "python"
    }
  },
  "nbformat": 4,
  "nbformat_minor": 0
}